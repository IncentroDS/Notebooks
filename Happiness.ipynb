{
 "cells": [
  {
   "cell_type": "code",
   "execution_count": 338,
   "metadata": {
    "collapsed": false
   },
   "outputs": [],
   "source": [
    "#import libraries\n",
    "import pandas as pd\n",
    "from cStringIO import StringIO\n",
    "import tensorflow as tf\n",
    "import numpy as np\n",
    "import sklearn\n",
    "from sklearn import cross_validation\n",
    "from sklearn import svm\n",
    "from sklearn.metrics import log_loss\n",
    "from sklearn.cross_validation import train_test_split\n",
    "import pandas as pd\n",
    "import tensorflow as tf\n",
    "import random\n",
    "import math\n",
    "import seaborn as sns\n",
    "import matplotlib.pyplot as plt\n",
    "%matplotlib inline\n",
    "tf.logging.set_verbosity(tf.logging.ERROR)\n"
   ]
  },
  {
   "cell_type": "code",
   "execution_count": 282,
   "metadata": {
    "collapsed": false
   },
   "outputs": [
    {
     "data": {
      "text/html": [
       "<table><tr><th>Name</th><th>Type</th><th>Size</th><th>Updated</th></tr><tr><td>Happines.csv</td><td>text/csv</td><td>3386</td><td>2016-12-12 09:29:21.068000+00:00</td></tr><tr><td>boston_predict.csv</td><td>text/csv</td><td>342</td><td>2016-12-12 14:10:46.761000+00:00</td></tr><tr><td>boston_test.csv</td><td>text/csv</td><td>5536</td><td>2016-12-12 14:10:46.770000+00:00</td></tr><tr><td>boston_train.csv</td><td>text/csv</td><td>22044</td><td>2016-12-12 14:10:46.811000+00:00</td></tr><tr><td>gegevenstotaal.csv</td><td>text/csv</td><td>208721</td><td>2016-12-12 09:29:21.049000+00:00</td></tr><tr><td>geluk.csv</td><td>text/csv</td><td>22656</td><td>2016-12-12 10:12:42.998000+00:00</td></tr></table>"
      ],
      "text/plain": [
       "<IPython.core.display.HTML object>"
      ]
     },
     "execution_count": 282,
     "metadata": {},
     "output_type": "execute_result"
    }
   ],
   "source": [
    "#check files in google cloud storage\n",
    "%%storage list --bucket gs://happiness-incentro"
   ]
  },
  {
   "cell_type": "code",
   "execution_count": 283,
   "metadata": {
    "collapsed": true
   },
   "outputs": [],
   "source": [
    "#read file\n",
    "%%storage read --object gs://happiness-incentro/geluk.csv --variable geluktotaal"
   ]
  },
  {
   "cell_type": "code",
   "execution_count": 284,
   "metadata": {
    "collapsed": false
   },
   "outputs": [],
   "source": [
    "#write file to panda dataframe\n",
    "geluk=pd.read_csv(StringIO(geluktotaal), sep=\",\")"
   ]
  },
  {
   "cell_type": "code",
   "execution_count": 285,
   "metadata": {
    "collapsed": false
   },
   "outputs": [],
   "source": [
    "#select variables for use\n",
    "geluk = geluk.loc[:,['Life.Ladder',\n",
    "       'Log.GDP.per.capita', 'Social.support',\n",
    "       'Healthy.life.expectancy.at.birth', 'Freedom.to.make.life.choices',\n",
    "       'Generosity', 'Perceptions.of.corruption', 'Positive.affect',\n",
    "       'Negative.affect', 'Confidence.in.national.government',\n",
    "       'Democratic.Quality', 'Delivery.Quality',\n",
    "       'Mean']]"
   ]
  },
  {
   "cell_type": "code",
   "execution_count": 286,
   "metadata": {
    "collapsed": false
   },
   "outputs": [
    {
     "data": {
      "text/html": [
       "<div>\n",
       "<table border=\"1\" class=\"dataframe\">\n",
       "  <thead>\n",
       "    <tr style=\"text-align: right;\">\n",
       "      <th></th>\n",
       "      <th>Life.Ladder</th>\n",
       "      <th>Log.GDP.per.capita</th>\n",
       "      <th>Social.support</th>\n",
       "      <th>Healthy.life.expectancy.at.birth</th>\n",
       "      <th>Freedom.to.make.life.choices</th>\n",
       "      <th>Generosity</th>\n",
       "      <th>Perceptions.of.corruption</th>\n",
       "      <th>Positive.affect</th>\n",
       "      <th>Negative.affect</th>\n",
       "      <th>Confidence.in.national.government</th>\n",
       "      <th>Democratic.Quality</th>\n",
       "      <th>Delivery.Quality</th>\n",
       "      <th>Mean</th>\n",
       "    </tr>\n",
       "  </thead>\n",
       "  <tbody>\n",
       "    <tr>\n",
       "      <th>0</th>\n",
       "      <td>6.697131</td>\n",
       "      <td>9.805691</td>\n",
       "      <td>0.926492</td>\n",
       "      <td>67.287224</td>\n",
       "      <td>0.881224</td>\n",
       "      <td>-0.168666</td>\n",
       "      <td>0.850906</td>\n",
       "      <td>0.858544</td>\n",
       "      <td>0.305355</td>\n",
       "      <td>0.378169</td>\n",
       "      <td>0.184472</td>\n",
       "      <td>-0.686682</td>\n",
       "      <td>7.1</td>\n",
       "    </tr>\n",
       "    <tr>\n",
       "      <th>1</th>\n",
       "      <td>4.348320</td>\n",
       "      <td>8.968936</td>\n",
       "      <td>0.722551</td>\n",
       "      <td>65.300758</td>\n",
       "      <td>0.551027</td>\n",
       "      <td>-0.186697</td>\n",
       "      <td>0.901462</td>\n",
       "      <td>0.594143</td>\n",
       "      <td>0.437948</td>\n",
       "      <td>0.170928</td>\n",
       "      <td>-0.378111</td>\n",
       "      <td>-0.178475</td>\n",
       "      <td>4.9</td>\n",
       "    </tr>\n",
       "    <tr>\n",
       "      <th>2</th>\n",
       "      <td>7.309061</td>\n",
       "      <td>10.680326</td>\n",
       "      <td>0.951862</td>\n",
       "      <td>72.560242</td>\n",
       "      <td>0.921871</td>\n",
       "      <td>0.315702</td>\n",
       "      <td>0.356554</td>\n",
       "      <td>0.790050</td>\n",
       "      <td>0.209637</td>\n",
       "      <td>0.478557</td>\n",
       "      <td>1.228348</td>\n",
       "      <td>1.814433</td>\n",
       "      <td>7.6</td>\n",
       "    </tr>\n",
       "    <tr>\n",
       "      <th>3</th>\n",
       "      <td>7.076447</td>\n",
       "      <td>10.691354</td>\n",
       "      <td>0.928110</td>\n",
       "      <td>70.822556</td>\n",
       "      <td>0.900305</td>\n",
       "      <td>0.089089</td>\n",
       "      <td>0.557480</td>\n",
       "      <td>0.798263</td>\n",
       "      <td>0.164469</td>\n",
       "      <td>0.454790</td>\n",
       "      <td>1.353560</td>\n",
       "      <td>1.613224</td>\n",
       "      <td>7.2</td>\n",
       "    </tr>\n",
       "    <tr>\n",
       "      <th>4</th>\n",
       "      <td>5.146775</td>\n",
       "      <td>9.730904</td>\n",
       "      <td>0.785703</td>\n",
       "      <td>61.975845</td>\n",
       "      <td>0.764289</td>\n",
       "      <td>-0.222635</td>\n",
       "      <td>0.615553</td>\n",
       "      <td>0.606569</td>\n",
       "      <td>0.206114</td>\n",
       "      <td>0.788487</td>\n",
       "      <td>-0.970333</td>\n",
       "      <td>-0.539710</td>\n",
       "      <td>5.8</td>\n",
       "    </tr>\n",
       "  </tbody>\n",
       "</table>\n",
       "</div>"
      ],
      "text/plain": [
       "   Life.Ladder  Log.GDP.per.capita  Social.support  \\\n",
       "0     6.697131            9.805691        0.926492   \n",
       "1     4.348320            8.968936        0.722551   \n",
       "2     7.309061           10.680326        0.951862   \n",
       "3     7.076447           10.691354        0.928110   \n",
       "4     5.146775            9.730904        0.785703   \n",
       "\n",
       "   Healthy.life.expectancy.at.birth  Freedom.to.make.life.choices  Generosity  \\\n",
       "0                         67.287224                      0.881224   -0.168666   \n",
       "1                         65.300758                      0.551027   -0.186697   \n",
       "2                         72.560242                      0.921871    0.315702   \n",
       "3                         70.822556                      0.900305    0.089089   \n",
       "4                         61.975845                      0.764289   -0.222635   \n",
       "\n",
       "   Perceptions.of.corruption  Positive.affect  Negative.affect  \\\n",
       "0                   0.850906         0.858544         0.305355   \n",
       "1                   0.901462         0.594143         0.437948   \n",
       "2                   0.356554         0.790050         0.209637   \n",
       "3                   0.557480         0.798263         0.164469   \n",
       "4                   0.615553         0.606569         0.206114   \n",
       "\n",
       "   Confidence.in.national.government  Democratic.Quality  Delivery.Quality  \\\n",
       "0                           0.378169            0.184472         -0.686682   \n",
       "1                           0.170928           -0.378111         -0.178475   \n",
       "2                           0.478557            1.228348          1.814433   \n",
       "3                           0.454790            1.353560          1.613224   \n",
       "4                           0.788487           -0.970333         -0.539710   \n",
       "\n",
       "   Mean  \n",
       "0   7.1  \n",
       "1   4.9  \n",
       "2   7.6  \n",
       "3   7.2  \n",
       "4   5.8  "
      ]
     },
     "execution_count": 286,
     "metadata": {},
     "output_type": "execute_result"
    }
   ],
   "source": [
    "#check on dataframe\n",
    "geluk.head()"
   ]
  },
  {
   "cell_type": "code",
   "execution_count": 287,
   "metadata": {
    "collapsed": true
   },
   "outputs": [],
   "source": [
    "#Label columns, features and target\n",
    "COLUMNS = ['Life.Ladder',\n",
    "       'Log.GDP.per.capita', 'Social.support',\n",
    "       'Healthy.life.expectancy.at.birth', 'Freedom.to.make.life.choices',\n",
    "       'Generosity', 'Perceptions.of.corruption', 'Positive.affect',\n",
    "       'Negative.affect', 'Confidence.in.national.government',\n",
    "       'Democratic.Quality', 'Delivery.Quality',\n",
    "       'Mean']\n",
    "FEATURES = ['Life.Ladder',\n",
    "       'Log.GDP.per.capita', 'Social.support',\n",
    "       'Healthy.life.expectancy.at.birth', 'Freedom.to.make.life.choices',\n",
    "       'Generosity', 'Perceptions.of.corruption', 'Positive.affect',\n",
    "       'Negative.affect', 'Confidence.in.national.government',\n",
    "       'Democratic.Quality', 'Delivery.Quality']\n",
    "LABEL ='Mean'"
   ]
  },
  {
   "cell_type": "code",
   "execution_count": 288,
   "metadata": {
    "collapsed": false
   },
   "outputs": [],
   "source": [
    "# create training and test set for Tensorflow\n",
    "training_set, test_set = train_test_split(geluk, test_size = 0.5, random_state=12)"
   ]
  },
  {
   "cell_type": "code",
   "execution_count": 289,
   "metadata": {
    "collapsed": false
   },
   "outputs": [],
   "source": [
    "# create training and test sets for SVM\n",
    "y_test=test_set.loc[:,'Mean']\n",
    "y_train=training_set.loc[:,'Mean']\n",
    "X_test=test_set.iloc[:,:12]\n",
    "X_train=training_set.iloc[:,:12]"
   ]
  },
  {
   "cell_type": "code",
   "execution_count": 446,
   "metadata": {
    "collapsed": false
   },
   "outputs": [],
   "source": [
    "# SVM linear kernel\n",
    "svmL = svm.LinearSVR(C=0.07)\n",
    "svmL.fit(X_train, y_train)  \n",
    "y_predL = svmL.predict(X_test)\n",
    "r2SVML=r2_score(y_test, y_predL)\n",
    "\n",
    "# SVM radial kernel\n",
    "svmR = svm.SVR(kernel='rbf', gamma=0.005, C=5)\n",
    "svmR.fit(X_train, y_train)  \n",
    "y_predR = svmR.predict(X_test)\n",
    "r2SVMR=r2_score(y_test, y_predR)"
   ]
  },
  {
   "cell_type": "code",
   "execution_count": 291,
   "metadata": {
    "collapsed": true
   },
   "outputs": [],
   "source": [
    "#Define columns as real values (no categories in this dataset)\n",
    "feature_cols = [tf.contrib.layers.real_valued_column(k)\n",
    "                  for k in FEATURES]"
   ]
  },
  {
   "cell_type": "code",
   "execution_count": 292,
   "metadata": {
    "collapsed": false
   },
   "outputs": [],
   "source": [
    "#Set the DNN\n",
    "regressor = tf.contrib.learn.DNNRegressor(\n",
    "    feature_columns=feature_cols, hidden_units=[200, 140,40])"
   ]
  },
  {
   "cell_type": "code",
   "execution_count": 293,
   "metadata": {
    "collapsed": false
   },
   "outputs": [],
   "source": [
    "#write function for setting the Tensors\n",
    "def input_fn(data_set):\n",
    "  feature_cols = {k: tf.constant(data_set[k].values) for k in FEATURES}\n",
    "  labels = tf.constant(data_set[LABEL].values)\n",
    "  return feature_cols, labels"
   ]
  },
  {
   "cell_type": "code",
   "execution_count": 294,
   "metadata": {
    "collapsed": false
   },
   "outputs": [
    {
     "data": {
      "text/plain": [
       "DNNRegressor(hidden_units=[200, 140, 40], dropout=None, optimizer=None, feature_columns=[_RealValuedColumn(column_name='Life.Ladder', dimension=1, default_value=None, dtype=tf.float32, normalizer=None), _RealValuedColumn(column_name='Log.GDP.per.capita', dimension=1, default_value=None, dtype=tf.float32, normalizer=None), _RealValuedColumn(column_name='Social.support', dimension=1, default_value=None, dtype=tf.float32, normalizer=None), _RealValuedColumn(column_name='Healthy.life.expectancy.at.birth', dimension=1, default_value=None, dtype=tf.float32, normalizer=None), _RealValuedColumn(column_name='Freedom.to.make.life.choices', dimension=1, default_value=None, dtype=tf.float32, normalizer=None), _RealValuedColumn(column_name='Generosity', dimension=1, default_value=None, dtype=tf.float32, normalizer=None), _RealValuedColumn(column_name='Perceptions.of.corruption', dimension=1, default_value=None, dtype=tf.float32, normalizer=None), _RealValuedColumn(column_name='Positive.affect', dimension=1, default_value=None, dtype=tf.float32, normalizer=None), _RealValuedColumn(column_name='Negative.affect', dimension=1, default_value=None, dtype=tf.float32, normalizer=None), _RealValuedColumn(column_name='Confidence.in.national.government', dimension=1, default_value=None, dtype=tf.float32, normalizer=None), _RealValuedColumn(column_name='Democratic.Quality', dimension=1, default_value=None, dtype=tf.float32, normalizer=None), _RealValuedColumn(column_name='Delivery.Quality', dimension=1, default_value=None, dtype=tf.float32, normalizer=None)])"
      ]
     },
     "execution_count": 294,
     "metadata": {},
     "output_type": "execute_result"
    }
   ],
   "source": [
    "# Run the DNN\n",
    "regressor.fit(input_fn=lambda: input_fn(training_set), steps = 147301)"
   ]
  },
  {
   "cell_type": "code",
   "execution_count": 295,
   "metadata": {
    "collapsed": false
   },
   "outputs": [],
   "source": [
    "# Build the evaluation for the DNN on the test set\n",
    "ev = regressor.evaluate(input_fn=lambda: input_fn(test_set), steps=1500)"
   ]
  },
  {
   "cell_type": "code",
   "execution_count": 296,
   "metadata": {
    "collapsed": false
   },
   "outputs": [
    {
     "name": "stdout",
     "output_type": "stream",
     "text": [
      "Loss: 0.498901\n"
     ]
    }
   ],
   "source": [
    "# Print loss score\n",
    "loss_score = ev[\"loss\"]\n",
    "print(\"Loss: {0:f}\".format(loss_score))"
   ]
  },
  {
   "cell_type": "code",
   "execution_count": 297,
   "metadata": {
    "collapsed": false
   },
   "outputs": [],
   "source": [
    "# predict with DNN\n",
    "y = regressor.predict(input_fn=lambda: input_fn(test_set))\n",
    "r2DNN=r2_score(test_set.Mean, y)"
   ]
  },
  {
   "cell_type": "code",
   "execution_count": 463,
   "metadata": {
    "collapsed": false
   },
   "outputs": [
    {
     "data": {
      "image/png": "[encoded data removed]",
      "text/plain": [
       "<matplotlib.figure.Figure at 0x7f65da8105d0>"
      ]
     },
     "metadata": {},
     "output_type": "display_data"
    },
    {
     "data": {
      "image/png": "[encoded data removed]",
      "text/plain": [
       "<matplotlib.figure.Figure at 0x7f65d953c9d0>"
      ]
     },
     "metadata": {},
     "output_type": "display_data"
    },
    {
     "data": {
      "image/png": "[encoded data removed]",
      "text/plain": [
       "<matplotlib.figure.Figure at 0x7f65da4b37d0>"
      ]
     },
     "metadata": {},
     "output_type": "display_data"
    }
   ],
   "source": [
    "# Create plots for SVMR, SVML and DNN\n",
    "#SVMR\n",
    "x_as = np.arange(len(y))\n",
    "ar2 = zip(y_predR,y_test)\n",
    "ar1 = zip(x_as,x_as)\n",
    "\n",
    "fig = plt.figure(figsize=(20,10))\n",
    "plt.subplot(311)\n",
    "\n",
    "for i in range(len(ar1)):\n",
    "    plt.plot(ar1[i], ar2[i], 'k-', lw=1, color='#2fa1bc')\n",
    "plot_pred = plt.scatter(x_as, y_predR, color=\"#94cfb8\")\n",
    "plot_test = plt.scatter(x_as,y_test, color=\"#a8eb7a\")\n",
    "plt.title(\"for SVMR\")\n",
    "plt.legend([plot_pred,plot_test], [\"predicted\",\"actual\"])\n",
    "\n",
    "#SVML\n",
    "x_as = np.arange(len(y))\n",
    "ar2 = zip(y_predL,y_test)\n",
    "ar1 = zip(x_as,x_as)\n",
    "\n",
    "fig = plt.figure(figsize=(20,10))\n",
    "plt.subplot(312)\n",
    "\n",
    "for i in range(len(ar1)):\n",
    "    plt.plot(ar1[i], ar2[i], 'k-', lw=1, color='#2fa1bc')\n",
    "plot_pred = plt.scatter(x_as, y_predL, color=\"#94cfb8\")\n",
    "plot_test = plt.scatter(x_as,y_test, color=\"#a8eb7a\")\n",
    "plt.title(\"for SVML\")\n",
    "plt.legend([plot_pred,plot_test], [\"predicted\",\"actual\"])\n",
    "\n",
    "#DNN\n",
    "x_as = np.arange(len(y))\n",
    "ar2 = zip(y,y_test)\n",
    "ar1 = zip(x_as,x_as)\n",
    "\n",
    "fig = plt.figure(figsize=(20,10))\n",
    "plt.subplot(313)\n",
    "\n",
    "for i in range(len(ar1)):\n",
    "    plt.plot(ar1[i], ar2[i], '-', lw=1, color='#2fa1bc')\n",
    "plot_pred = plt.scatter(x_as, y, color=\"#94cfb8\")\n",
    "plot_test = plt.scatter(x_as,y_test, color=\"#a8eb7a\")\n",
    "plt.title(\"for DNN\")\n",
    "plt.legend([plot_pred,plot_test], [\"predicted\",\"actual\"])\n",
    "plt.show()"
   ]
  },
  {
   "cell_type": "code",
   "execution_count": 457,
   "metadata": {
    "collapsed": false
   },
   "outputs": [
    {
     "data": {
      "image/png": "[encoded data removed]",
      "text/plain": [
       "<matplotlib.figure.Figure at 0x7f65da8d3550>"
      ]
     },
     "metadata": {},
     "output_type": "display_data"
    }
   ],
   "source": [
    "#R2\n",
    "list=[]\n",
    "list.append(np.round(r2SVMR,decimals=2))\n",
    "list.append(np.round(r2SVML,decimals=2))\n",
    "list.append(np.round(r2DNN,decimals=2))\n",
    "\n",
    "plt.subplots(nrows=1,ncols=2)\n",
    "plt.subplot(121)\n",
    "x_as=[\"SVMR\",\"SVML\",\"DNN\"]\n",
    "sns.barplot(x_as,list, color=\"#94cfb8\")\n",
    "plt.title(\"R2\")\n",
    "\n",
    "#RMSE \n",
    "RSMER=np.sqrt(np.mean(pow((y_predR - y_test),2)))\n",
    "RSMEL=np.sqrt(np.mean(pow((y_predL - y_test),2)))\n",
    "RSMEDNN=np.sqrt(np.mean(pow((y - y_test),2)))\n",
    "list2=[]\n",
    "list2.extend((RSMER,RSMEL,RSMEDNN))\n",
    "\n",
    "plt.subplot(1,2,2)\n",
    "x_as=[\"SVMR\",\"SVML\",\"DNN\"]\n",
    "sns.barplot(x_as,list2, color=\"#94cfb8\")\n",
    "plt.title(\"RSME\")\n",
    "plt.show()\n"
   ]
  },
  {
   "cell_type": "code",
   "execution_count": 483,
   "metadata": {
    "collapsed": false
   },
   "outputs": [
    {
     "data": {
      "image/png": "[encoded data removed]",
      "text/plain": [
       "<matplotlib.figure.Figure at 0x7f65da1a3250>"
      ]
     },
     "metadata": {},
     "output_type": "display_data"
    }
   ],
   "source": [
    "plt.subplot(1,3,1)\n",
    "sns.regplot(y_predR,y_test, fit_reg=False)\n",
    "plt.plot([2,9],[2,9])\n",
    "\n",
    "plt.subplot(1,3,2)\n",
    "sns.regplot(y_predL,y_test, fit_reg=False)\n",
    "plt.plot([2,9],[2,9])\n",
    "\n",
    "plt.subplot(1,3,3)\n",
    "sns.regplot(y,y_test, fit_reg=False)\n",
    "plt.plot([2,9],[2,9])\n",
    "\n",
    "plt.show()\n"
   ]
  }
 ],
 "metadata": {
  "kernelspec": {
   "display_name": "Python 2",
   "language": "python",
   "name": "python2"
  },
  "language_info": {
   "codemirror_mode": {
    "name": "ipython",
    "version": 2
   },
   "file_extension": ".py",
   "mimetype": "text/x-python",
   "name": "python",
   "nbconvert_exporter": "python",
   "pygments_lexer": "ipython2",
   "version": "2.7.9"
  }
 },
 "nbformat": 4,
 "nbformat_minor": 2
}
