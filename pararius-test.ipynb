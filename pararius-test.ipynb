{
 "cells": [
  {
   "cell_type": "code",
   "execution_count": 18,
   "metadata": {
    "collapsed": true
   },
   "outputs": [],
   "source": [
    "import datalab.bigquery as bq\n",
    "import seaborn as sns\n",
    "import pandas as pd\n",
    "import numpy as np\n",
    "import tensorflow as tf\n",
    "import shutil"
   ]
  },
  {
   "cell_type": "code",
   "execution_count": 4,
   "metadata": {
    "collapsed": false
   },
   "outputs": [],
   "source": [
    "dfbq=bq.Query('SELECT * FROM [incentro-sam-1070:pararius_test.testdata]').to_dataframe()"
   ]
  },
  {
   "cell_type": "code",
   "execution_count": 6,
   "metadata": {
    "collapsed": false
   },
   "outputs": [
    {
     "data": {
      "image/png": "[encoded data removed]",
      "text/plain": [
       "<matplotlib.figure.Figure at 0x7f2234a770d0>"
      ]
     },
     "metadata": {},
     "output_type": "display_data"
    }
   ],
   "source": [
    "ax = sns.regplot(x=\"prijs\", y=\"afmeting\", ci=None, truncate=True, data=dfbq)"
   ]
  },
  {
   "cell_type": "code",
   "execution_count": 13,
   "metadata": {
    "collapsed": false
   },
   "outputs": [
    {
     "data": {
      "text/html": [
       "<div>\n",
       "<table border=\"1\" class=\"dataframe\">\n",
       "  <thead>\n",
       "    <tr style=\"text-align: right;\">\n",
       "      <th></th>\n",
       "      <th>id</th>\n",
       "      <th>prijs</th>\n",
       "      <th>afmeting</th>\n",
       "    </tr>\n",
       "  </thead>\n",
       "  <tbody>\n",
       "    <tr>\n",
       "      <th>count</th>\n",
       "      <td>20.00000</td>\n",
       "      <td>20.0000</td>\n",
       "      <td>20.000000</td>\n",
       "    </tr>\n",
       "    <tr>\n",
       "      <th>mean</th>\n",
       "      <td>10.50000</td>\n",
       "      <td>971.7000</td>\n",
       "      <td>80.000000</td>\n",
       "    </tr>\n",
       "    <tr>\n",
       "      <th>std</th>\n",
       "      <td>5.91608</td>\n",
       "      <td>320.1919</td>\n",
       "      <td>26.347875</td>\n",
       "    </tr>\n",
       "    <tr>\n",
       "      <th>min</th>\n",
       "      <td>1.00000</td>\n",
       "      <td>495.0000</td>\n",
       "      <td>38.000000</td>\n",
       "    </tr>\n",
       "    <tr>\n",
       "      <th>25%</th>\n",
       "      <td>5.75000</td>\n",
       "      <td>733.2500</td>\n",
       "      <td>60.000000</td>\n",
       "    </tr>\n",
       "    <tr>\n",
       "      <th>50%</th>\n",
       "      <td>10.50000</td>\n",
       "      <td>931.0000</td>\n",
       "      <td>81.000000</td>\n",
       "    </tr>\n",
       "    <tr>\n",
       "      <th>75%</th>\n",
       "      <td>15.25000</td>\n",
       "      <td>1219.7500</td>\n",
       "      <td>94.250000</td>\n",
       "    </tr>\n",
       "    <tr>\n",
       "      <th>max</th>\n",
       "      <td>20.00000</td>\n",
       "      <td>1474.0000</td>\n",
       "      <td>141.000000</td>\n",
       "    </tr>\n",
       "  </tbody>\n",
       "</table>\n",
       "</div>"
      ],
      "text/plain": [
       "             id      prijs    afmeting\n",
       "count  20.00000    20.0000   20.000000\n",
       "mean   10.50000   971.7000   80.000000\n",
       "std     5.91608   320.1919   26.347875\n",
       "min     1.00000   495.0000   38.000000\n",
       "25%     5.75000   733.2500   60.000000\n",
       "50%    10.50000   931.0000   81.000000\n",
       "75%    15.25000  1219.7500   94.250000\n",
       "max    20.00000  1474.0000  141.000000"
      ]
     },
     "execution_count": 13,
     "metadata": {},
     "output_type": "execute_result"
    }
   ],
   "source": [
    "dfbq.describe()"
   ]
  },
  {
   "cell_type": "code",
   "execution_count": 14,
   "metadata": {
    "collapsed": false
   },
   "outputs": [
    {
     "data": {
      "text/html": [
       "<div>\n",
       "<table border=\"1\" class=\"dataframe\">\n",
       "  <thead>\n",
       "    <tr style=\"text-align: right;\">\n",
       "      <th></th>\n",
       "      <th>id</th>\n",
       "      <th>stad</th>\n",
       "      <th>stoffering</th>\n",
       "      <th>prijs</th>\n",
       "      <th>afmeting</th>\n",
       "      <th>type</th>\n",
       "      <th>aanmeld</th>\n",
       "      <th>afmeld</th>\n",
       "    </tr>\n",
       "  </thead>\n",
       "  <tbody>\n",
       "    <tr>\n",
       "      <th>0</th>\n",
       "      <td>1</td>\n",
       "      <td>Rotterdam</td>\n",
       "      <td>kaal</td>\n",
       "      <td>1316</td>\n",
       "      <td>101</td>\n",
       "      <td>appartement</td>\n",
       "      <td>20161019</td>\n",
       "      <td>20161206</td>\n",
       "    </tr>\n",
       "    <tr>\n",
       "      <th>1</th>\n",
       "      <td>4</td>\n",
       "      <td>Rotterdam</td>\n",
       "      <td>kaal</td>\n",
       "      <td>1112</td>\n",
       "      <td>111</td>\n",
       "      <td>appartement</td>\n",
       "      <td>20161122</td>\n",
       "      <td>20170102</td>\n",
       "    </tr>\n",
       "    <tr>\n",
       "      <th>2</th>\n",
       "      <td>7</td>\n",
       "      <td>Rotterdam</td>\n",
       "      <td>kaal</td>\n",
       "      <td>1098</td>\n",
       "      <td>92</td>\n",
       "      <td>appartement</td>\n",
       "      <td>20161025</td>\n",
       "      <td>20161119</td>\n",
       "    </tr>\n",
       "    <tr>\n",
       "      <th>3</th>\n",
       "      <td>10</td>\n",
       "      <td>Rotterdam</td>\n",
       "      <td>kaal</td>\n",
       "      <td>1195</td>\n",
       "      <td>80</td>\n",
       "      <td>appartement</td>\n",
       "      <td>20161105</td>\n",
       "      <td>20161224</td>\n",
       "    </tr>\n",
       "    <tr>\n",
       "      <th>4</th>\n",
       "      <td>13</td>\n",
       "      <td>Amsterdam</td>\n",
       "      <td>kaal</td>\n",
       "      <td>661</td>\n",
       "      <td>51</td>\n",
       "      <td>appartement</td>\n",
       "      <td>20161215</td>\n",
       "      <td>20170203</td>\n",
       "    </tr>\n",
       "  </tbody>\n",
       "</table>\n",
       "</div>"
      ],
      "text/plain": [
       "   id       stad stoffering  prijs  afmeting         type   aanmeld    afmeld\n",
       "0   1  Rotterdam       kaal   1316       101  appartement  20161019  20161206\n",
       "1   4  Rotterdam       kaal   1112       111  appartement  20161122  20170102\n",
       "2   7  Rotterdam       kaal   1098        92  appartement  20161025  20161119\n",
       "3  10  Rotterdam       kaal   1195        80  appartement  20161105  20161224\n",
       "4  13  Amsterdam       kaal    661        51  appartement  20161215  20170203"
      ]
     },
     "execution_count": 14,
     "metadata": {},
     "output_type": "execute_result"
    }
   ],
   "source": [
    "dfbq.head()"
   ]
  },
  {
   "cell_type": "code",
   "execution_count": 12,
   "metadata": {
    "collapsed": true
   },
   "outputs": [],
   "source": [
    "FEATURE_COLS = 'afmeting'\n",
    "TARGET_COL   = 'prijs'"
   ]
  },
  {
   "cell_type": "code",
   "execution_count": 19,
   "metadata": {
    "collapsed": false
   },
   "outputs": [
    {
     "name": "stderr",
     "output_type": "stream",
     "text": [
      "WARNING:tensorflow:Change warning: default value of `enable_centered_bias` will change after 2016-10-09. It will be disabled by default.Instructions for keeping existing behaviour:\n",
      "Explicitly set `enable_centered_bias` to 'True' if you want to keep existing behaviour.\n",
      "WARNING:tensorflow:Using default config.\n",
      "INFO:tensorflow:Using config: {'task': 0, 'save_summary_steps': 100, 'keep_checkpoint_max': 5, '_is_chief': True, 'save_checkpoints_secs': 600, 'evaluation_master': '', 'tf_config': gpu_options {\n",
      "  per_process_gpu_memory_fraction: 1\n",
      "}\n",
      ", 'master': '', 'keep_checkpoint_every_n_hours': 10000, '_job_name': None, 'cluster_spec': None, 'tf_random_seed': None, 'num_ps_replicas': 0}\n",
      "INFO:tensorflow:Setting feature info to TensorSignature(dtype=tf.int64, shape=TensorShape([Dimension(None), Dimension(1)]), is_sparse=False)\n",
      "INFO:tensorflow:Setting targets info to TensorSignature(dtype=tf.int64, shape=TensorShape([Dimension(None)]), is_sparse=False)\n",
      "INFO:tensorflow:Transforming feature_column _RealValuedColumn(column_name='', dimension=1, default_value=None, dtype=tf.int64, normalizer=None)\n",
      "INFO:tensorflow:Create CheckpointSaverHook\n",
      "INFO:tensorflow:loss = 1.0416e+06, step = 1\n",
      "INFO:tensorflow:Saving checkpoints for 1 into prijs/model.ckpt.\n",
      "INFO:tensorflow:loss = 528938.0, step = 101\n",
      "INFO:tensorflow:loss = 374100.0, step = 201\n",
      "INFO:tensorflow:loss = 281025.0, step = 301\n",
      "INFO:tensorflow:loss = 217903.0, step = 401\n",
      "INFO:tensorflow:loss = 172594.0, step = 501\n",
      "INFO:tensorflow:loss = 138985.0, step = 601\n",
      "INFO:tensorflow:loss = 113521.0, step = 701\n",
      "INFO:tensorflow:loss = 93948.3, step = 801\n",
      "INFO:tensorflow:loss = 78747.7, step = 901\n",
      "INFO:tensorflow:Saving checkpoints for 1000 into prijs/model.ckpt.\n",
      "INFO:tensorflow:Loss for final step: 66958.6.\n"
     ]
    }
   ],
   "source": [
    "tf.logging.set_verbosity(tf.logging.INFO)\n",
    "predictors = dfbq[FEATURE_COLS].values # np.ndarray\n",
    "targets = dfbq[TARGET_COL].values\n",
    "features = tf.contrib.learn.infer_real_valued_columns_from_input(predictors)\n",
    "shutil.rmtree('prijs', ignore_errors=True) # start fresh each time\n",
    "model = tf.contrib.learn.LinearRegressor(feature_columns=features, model_dir='prijs')\n",
    "model = model.fit(predictors, targets, steps=1000)"
   ]
  },
  {
   "cell_type": "code",
   "execution_count": 22,
   "metadata": {
    "collapsed": false
   },
   "outputs": [
    {
     "name": "stderr",
     "output_type": "stream",
     "text": [
      "WARNING:tensorflow:Calling predict (from tensorflow.contrib.learn.python.learn.estimators.estimator) with as_iterable=False is deprecated and will be removed after 2016-09-15.\n",
      "Instructions for updating:\n",
      "The default behavior of predict() is changing. The default value for\n",
      "as_iterable will change to True, and then the flag will be removed\n",
      "altogether. The behavior of this flag is described below.\n",
      "INFO:tensorflow:Transforming feature_column _RealValuedColumn(column_name='', dimension=1, default_value=None, dtype=tf.int64, normalizer=None)\n",
      "INFO:tensorflow:Loading model from checkpoint: prijs/model.ckpt-1000-?????-of-00001.\n"
     ]
    },
    {
     "name": "stdout",
     "output_type": "stream",
     "text": [
      "Train RMSE = 258.559983285\n"
     ]
    }
   ],
   "source": [
    "def compute_rmse(actual, predicted):\n",
    "  return np.sqrt(np.mean((actual-predicted)**2))\n",
    "\n",
    "def print_rmse(model):\n",
    "  print \"Train RMSE = {0}\".format(compute_rmse(dfbq[TARGET_COL], model.predict(dfbq[FEATURE_COLS].values)))\n",
    "  \n",
    "print_rmse(model)\n",
    "  "
   ]
  },
  {
   "cell_type": "code",
   "execution_count": null,
   "metadata": {
    "collapsed": true
   },
   "outputs": [],
   "source": []
  }
 ],
 "metadata": {
  "kernelspec": {
   "display_name": "Python 2",
   "language": "python",
   "name": "python2"
  },
  "language_info": {
   "codemirror_mode": {
    "name": "ipython",
    "version": 2
   },
   "file_extension": ".py",
   "mimetype": "text/x-python",
   "name": "python",
   "nbconvert_exporter": "python",
   "pygments_lexer": "ipython2",
   "version": "2.7.9"
  }
 },
 "nbformat": 4,
 "nbformat_minor": 1
}
